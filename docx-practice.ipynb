{
 "cells": [
  {
   "cell_type": "code",
   "execution_count": 16,
   "metadata": {
    "collapsed": true
   },
   "outputs": [],
   "source": [
    "from docx import Document"
   ]
  },
  {
   "cell_type": "markdown",
   "source": [
    "## P1 简单认识"
   ],
   "metadata": {
    "collapsed": false,
    "pycharm": {
     "name": "#%% md\n"
    }
   }
  },
  {
   "cell_type": "markdown",
   "source": [
    "![image-20220331120057560](https://photo-1305570530.cos.ap-nanjing.myqcloud.com/typora/image-20220331120057560.png)"
   ],
   "metadata": {
    "collapsed": false
   }
  },
  {
   "cell_type": "code",
   "execution_count": 17,
   "outputs": [],
   "source": [
    "document = Document('练习1.docx')\n",
    "# 返回列表，每个元素是一个paragraph对象\n",
    "paragraphs = document.paragraphs"
   ],
   "metadata": {
    "collapsed": false,
    "pycharm": {
     "name": "#%%\n"
    }
   }
  },
  {
   "cell_type": "code",
   "execution_count": 18,
   "outputs": [
    {
     "name": "stdout",
     "output_type": "stream",
     "text": [
      "引言\n",
      "圣诞节就在眼前，怎样诚挚表达自己的心意呢，自己动手做一个定制动图贺卡，写上定制的祈福语，收到贺卡的apple人一定很开心。\n",
      "干货\n",
      "废话不多说，直接上源代码。Python 3环境直接运行，无任何apple依赖。 修改代码中的祝福语字段，就可以定制你自己的动图贺卡了。\n",
      "\n"
     ]
    }
   ],
   "source": [
    "# 获取文字内容\n",
    "for paragraph in paragraphs:\n",
    "    print(paragraph.text)"
   ],
   "metadata": {
    "collapsed": false,
    "pycharm": {
     "name": "#%%\n"
    }
   }
  },
  {
   "cell_type": "markdown",
   "source": [
    "![image-20220331115629483](https://photo-1305570530.cos.ap-nanjing.myqcloud.com/typora/image-20220331115629483.png)"
   ],
   "metadata": {
    "collapsed": false
   }
  },
  {
   "cell_type": "code",
   "execution_count": 19,
   "outputs": [
    {
     "name": "stdout",
     "output_type": "stream",
     "text": [
      "圣诞节就在眼前，怎样诚挚\n",
      "表达自己\n",
      "的心意呢，自己动手做一个\n",
      "定制动图贺卡，写上定制的祈福语，收到贺卡的\n",
      "apple\n",
      "人一定很开心。\n"
     ]
    }
   ],
   "source": [
    "# 块的认识\n",
    "paragraph = paragraphs[1]\n",
    "runs = paragraph.runs\n",
    "for run in runs:\n",
    "    print(run.text)"
   ],
   "metadata": {
    "collapsed": false,
    "pycharm": {
     "name": "#%%\n"
    }
   }
  },
  {
   "cell_type": "code",
   "execution_count": 24,
   "outputs": [
    {
     "name": "stdout",
     "output_type": "stream",
     "text": [
      "段落中有2个apple\n",
      "总共有6个apple\n"
     ]
    }
   ],
   "source": [
    "# 搜索\n",
    "\n",
    "cnt = 0\n",
    "# 在段落中搜索\n",
    "for paragraph in paragraphs:\n",
    "    if 'apple' in paragraph.text:\n",
    "        cnt += 1\n",
    "\n",
    "print(f\"段落中有{cnt}个apple\")\n",
    "\n",
    "# 在表格中搜索\n",
    "tables = document.tables\n",
    "for table in tables:\n",
    "    for row in table.rows:\n",
    "        for cell in row.cells:\n",
    "            if cell.text == 'apple':\n",
    "                cnt += 1\n",
    "\n",
    "print(f\"总共有{cnt}个apple\")"
   ],
   "metadata": {
    "collapsed": false,
    "pycharm": {
     "name": "#%%\n"
    }
   }
  },
  {
   "cell_type": "markdown",
   "source": [
    "## P2 读取word文字、标题"
   ],
   "metadata": {
    "collapsed": false,
    "pycharm": {
     "name": "#%% md\n"
    }
   }
  },
  {
   "cell_type": "code",
   "execution_count": 27,
   "outputs": [],
   "source": [
    "document = Document('练习2.docx')"
   ],
   "metadata": {
    "collapsed": false,
    "pycharm": {
     "name": "#%%\n"
    }
   }
  },
  {
   "cell_type": "code",
   "execution_count": 28,
   "outputs": [
    {
     "name": "stdout",
     "output_type": "stream",
     "text": [
      "我是一级标题\n",
      "大微软求安慰娶我呢\n",
      "我是二级标题\n",
      "爱上fore白天我碰巧因为和平\n",
      "我是三级标题\n",
      "啊我日八六反欺骗我耳机派人\n",
      "标题\n",
      "副标题\n",
      "书籍标题\n",
      "额我i和期望q\n",
      "阿达挖的哇额\n"
     ]
    }
   ],
   "source": [
    "for paragraph in document.paragraphs:\n",
    "    print(paragraph.text)"
   ],
   "metadata": {
    "collapsed": false,
    "pycharm": {
     "name": "#%%\n"
    }
   }
  },
  {
   "cell_type": "code",
   "execution_count": 29,
   "outputs": [
    {
     "name": "stdout",
     "output_type": "stream",
     "text": [
      "我是一级标题\n"
     ]
    }
   ],
   "source": [
    "# 筛选n级标题\n",
    "for paragraph in document.paragraphs:\n",
    "    if paragraph.style.name == 'Heading 1':\n",
    "        print(paragraph.text)"
   ],
   "metadata": {
    "collapsed": false,
    "pycharm": {
     "name": "#%%\n"
    }
   }
  },
  {
   "cell_type": "code",
   "execution_count": 32,
   "outputs": [
    {
     "name": "stdout",
     "output_type": "stream",
     "text": [
      "我是一级标题\n",
      "我是二级标题\n",
      "我是三级标题\n"
     ]
    }
   ],
   "source": [
    "# 获取所有的标题\n",
    "import re\n",
    "for paragraph in document.paragraphs:\n",
    "    if re.match(\"^Heading \\d+$\",paragraph.style.name):\n",
    "        print(paragraph.text)"
   ],
   "metadata": {
    "collapsed": false,
    "pycharm": {
     "name": "#%%\n"
    }
   }
  },
  {
   "cell_type": "code",
   "execution_count": 33,
   "outputs": [
    {
     "name": "stdout",
     "output_type": "stream",
     "text": [
      "大微软求安慰娶我呢\n",
      "爱上fore白天我碰巧因为和平\n",
      "啊我日八六反欺骗我耳机派人\n",
      "书籍标题\n"
     ]
    }
   ],
   "source": [
    "# 读取正文\n",
    "for paragraph in document.paragraphs:\n",
    "    if paragraph.style.name == 'Normal':\n",
    "        print(paragraph.text)"
   ],
   "metadata": {
    "collapsed": false,
    "pycharm": {
     "name": "#%%\n"
    }
   }
  },
  {
   "cell_type": "code",
   "execution_count": 35,
   "outputs": [
    {
     "name": "stdout",
     "output_type": "stream",
     "text": [
      "Normal\n",
      "Heading 1\n",
      "Heading 2\n",
      "Heading 3\n",
      "Intense Quote\n",
      "Title\n",
      "Subtitle\n",
      "List Paragraph\n"
     ]
    }
   ],
   "source": [
    "# 读取所有格式\n",
    "from docx.enum.style import WD_STYLE_TYPE\n",
    "for style in document.styles:\n",
    "    if style.type == WD_STYLE_TYPE.PARAGRAPH:\n",
    "        print(style.name)"
   ],
   "metadata": {
    "collapsed": false,
    "pycharm": {
     "name": "#%%\n"
    }
   }
  },
  {
   "cell_type": "markdown",
   "source": [
    "## P3 写入和插入word文字和段落"
   ],
   "metadata": {
    "collapsed": false,
    "pycharm": {
     "name": "#%% md\n"
    }
   }
  },
  {
   "cell_type": "markdown",
   "source": [
    "<font color=\"red\">注意：若原文档没有相关样式，会出现KeyError，需手动添加（好废）</font>"
   ],
   "metadata": {
    "collapsed": false,
    "pycharm": {
     "name": "#%% md\n"
    }
   }
  },
  {
   "cell_type": "code",
   "execution_count": 70,
   "outputs": [],
   "source": [
    "document = Document('练习2.docx')"
   ],
   "metadata": {
    "collapsed": false,
    "pycharm": {
     "name": "#%%\n"
    }
   }
  },
  {
   "cell_type": "code",
   "execution_count": 71,
   "outputs": [
    {
     "data": {
      "text/plain": "<docx.text.paragraph.Paragraph at 0x2315d7849d0>"
     },
     "execution_count": 71,
     "metadata": {},
     "output_type": "execute_result"
    }
   ],
   "source": [
    "# 添加标题\n",
    "document.add_heading(\"一级标题\", level=1)"
   ],
   "metadata": {
    "collapsed": false,
    "pycharm": {
     "name": "#%%\n"
    }
   }
  },
  {
   "cell_type": "code",
   "execution_count": 72,
   "outputs": [],
   "source": [
    "# 添加段落\n",
    "paragraph = document.add_paragraph(\"我是正文\")"
   ],
   "metadata": {
    "collapsed": false,
    "pycharm": {
     "name": "#%%\n"
    }
   }
  },
  {
   "cell_type": "code",
   "execution_count": 73,
   "outputs": [
    {
     "data": {
      "text/plain": "<docx.text.paragraph.Paragraph at 0x2315d784760>"
     },
     "execution_count": 73,
     "metadata": {},
     "output_type": "execute_result"
    }
   ],
   "source": [
    "# 添加分页符\n",
    "document.add_page_break()"
   ],
   "metadata": {
    "collapsed": false,
    "pycharm": {
     "name": "#%%\n"
    }
   }
  },
  {
   "cell_type": "code",
   "execution_count": 74,
   "outputs": [],
   "source": [
    "# 添加文字块\n",
    "paragraph.add_run('加粗').bold = True\n",
    "paragraph.add_run('普通')\n",
    "paragraph.add_run('斜体').italic = True\n",
    "paragraph.add_run('下划线').underline = True\n",
    "\n",
    "# 设置多种格式\n",
    "run = paragraph.add_run('多格式')\n",
    "run.bold = True\n",
    "run.italic = True\n",
    "run.underline = True"
   ],
   "metadata": {
    "collapsed": false,
    "pycharm": {
     "name": "#%%\n"
    }
   }
  },
  {
   "cell_type": "code",
   "execution_count": 75,
   "outputs": [
    {
     "name": "stdout",
     "output_type": "stream",
     "text": [
      "14\n"
     ]
    }
   ],
   "source": [
    "# 段落定位\n",
    "print(len(document.paragraphs))"
   ],
   "metadata": {
    "collapsed": false,
    "pycharm": {
     "name": "#%%\n"
    }
   }
  },
  {
   "cell_type": "code",
   "execution_count": 76,
   "outputs": [],
   "source": [
    "# 段落前插入\n",
    "paragraph = document.paragraphs[-1]\n",
    "new_para = paragraph.insert_paragraph_before('倒数第二段')"
   ],
   "metadata": {
    "collapsed": false,
    "pycharm": {
     "name": "#%%\n"
    }
   }
  },
  {
   "cell_type": "code",
   "execution_count": 78,
   "outputs": [],
   "source": [
    "document.save('练习3.1.docx')"
   ],
   "metadata": {
    "collapsed": false,
    "pycharm": {
     "name": "#%%\n"
    }
   }
  },
  {
   "cell_type": "code",
   "execution_count": null,
   "outputs": [],
   "source": [],
   "metadata": {
    "collapsed": false,
    "pycharm": {
     "name": "#%%\n"
    }
   }
  }
 ],
 "metadata": {
  "kernelspec": {
   "display_name": "Python 3",
   "language": "python",
   "name": "python3"
  },
  "language_info": {
   "codemirror_mode": {
    "name": "ipython",
    "version": 2
   },
   "file_extension": ".py",
   "mimetype": "text/x-python",
   "name": "python",
   "nbconvert_exporter": "python",
   "pygments_lexer": "ipython2",
   "version": "2.7.6"
  }
 },
 "nbformat": 4,
 "nbformat_minor": 0
}