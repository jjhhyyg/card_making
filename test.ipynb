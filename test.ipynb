{
 "cells": [
  {
   "cell_type": "code",
   "execution_count": 73,
   "metadata": {
    "collapsed": true
   },
   "outputs": [],
   "source": [
    "from docx import Document\n",
    "from docx.oxml.ns import qn\n",
    "import random"
   ]
  },
  {
   "cell_type": "code",
   "execution_count": 74,
   "outputs": [],
   "source": [
    "document = Document()\n",
    "document.styles['Normal'].font.name = u'宋体'\n",
    "document.styles['Normal']._element.rPr.rFonts.set(qn('w:eastAsia'), u'宋体')\n",
    "name_list = []\n",
    "sentence_list = []"
   ],
   "metadata": {
    "collapsed": false,
    "pycharm": {
     "name": "#%%\n"
    }
   }
  },
  {
   "cell_type": "code",
   "execution_count": 75,
   "outputs": [],
   "source": [
    "with open('names.txt', encoding='utf-8') as names:\n",
    "    for line in names.readlines():\n",
    "        # 去掉\\n\n",
    "        name = line.rstrip()\n",
    "        name_list.append(name)"
   ],
   "metadata": {
    "collapsed": false,
    "pycharm": {
     "name": "#%%\n"
    }
   }
  },
  {
   "cell_type": "code",
   "execution_count": 76,
   "outputs": [
    {
     "data": {
      "text/plain": "['瑞欣艳', '达司辰', '余芷珊', '房荣', '李柏', '李白容', '房琼诗', '房幼仪', '竹傲南', '完一嘉']"
     },
     "execution_count": 76,
     "metadata": {},
     "output_type": "execute_result"
    }
   ],
   "source": [
    "name_list"
   ],
   "metadata": {
    "collapsed": false,
    "pycharm": {
     "name": "#%%\n"
    }
   }
  },
  {
   "cell_type": "code",
   "execution_count": 77,
   "outputs": [],
   "source": [
    "with open('sentences.txt', encoding='utf-8') as sentences:\n",
    "    for line in sentences.readlines():\n",
    "        # 去掉\\n\n",
    "        sentence = line.rstrip()\n",
    "        sentence_list.append(sentence)"
   ],
   "metadata": {
    "collapsed": false,
    "pycharm": {
     "name": "#%%\n"
    }
   }
  },
  {
   "cell_type": "code",
   "execution_count": 78,
   "outputs": [
    {
     "data": {
      "text/plain": "['May sunshine always be with you, and spring will never be separated from you!',\n 'In the face of friendship, people are like stars and stars, not hindering each other, but shining on each other.',\n 'There is no need to be sad on the road of life. There are always bosom friends around the world. Take the opportunity to cherish good luck and wish our friendship evergreen.',\n 'There is no friendship between us any longer, nor does our friendship last for a long time.',\n 'I sincerely wish you every success and success!',\n \"Let's hold hands tightly in the past and let our friendship last forever.\",\n 'May you be happy today, you are successful this year, and you are happy in this life.',\n 'A true friend is a bosom friend on the road of life and a resonance of the soul.',\n 'Friendship is the most holy creature. It takes root and sprouts in the same sex, and blossoms and fruits in the opposite sex.',\n 'I wish you all the best and happy everyday!',\n 'Bosom friends need not speak much, but communicate with heart. Friendship cannot be expressed, but must be tasted by heart.',\n 'Cheer up, friends, wherever you are, luck and happiness always accompany you.',\n 'When we are happy, our friends will know us; in times of adversity, we will know our friends.',\n 'Friendship is everywhere, she is around you, she lingers around you and lives with you.',\n 'Those who walk in the desert hope for sweet springs; those who struggle in adversity long for sincere friendship.',\n 'Brave to deal with every day, because the sun is new every day.',\n 'All of them will meet again. All regrets will come to a successful conclusion. Everything that seems isolated can not be separated.',\n 'At the end of the week, friends bless in the bottom of my heart.',\n 'Blessing is simple, but affection is never simple. May my friend always be happy.',\n 'My dear friends, thank you for giving me so much affection. May you be happy and healthy!',\n 'I wish my dear friends a lot of rest after work. I wish you good health. Our friendship can last forever.',\n 'In growing years, friends who accompany you to laugh and worry are never forgotten in your life.',\n 'With understanding, friendship can survive. Friendship is the only thing that makes life worthwhile. Let us send out the light of understanding.',\n 'The moon is shining thousands of miles, sending messages to bless. A friend sends thoughts and friendship.',\n 'Friendship is a wonderful equation. It must be paid at the same time, and it will be gained at the time of giving.',\n 'No matter how far away we are, may our friendship last forever.',\n 'Friends, I wish you health and prosperity.',\n \"People's life is very short, cherish everything in front of you, live every day!\",\n 'Hide the sun in your heart and make it a wonderful dream; braze friendship in your heart and make it a sweet thought.',\n 'With you all the way, with me and with joy, I will cherish this sincere friendship.']"
     },
     "execution_count": 78,
     "metadata": {},
     "output_type": "execute_result"
    }
   ],
   "source": [
    "sentence_list"
   ],
   "metadata": {
    "collapsed": false,
    "pycharm": {
     "name": "#%%\n"
    }
   }
  },
  {
   "cell_type": "code",
   "execution_count": 79,
   "outputs": [],
   "source": [
    "rand_sentence_index = random.randint(0,len(sentence_list))"
   ],
   "metadata": {
    "collapsed": false,
    "pycharm": {
     "name": "#%%\n"
    }
   }
  },
  {
   "cell_type": "code",
   "execution_count": 80,
   "outputs": [],
   "source": [
    "from docx.enum.text import WD_PARAGRAPH_ALIGNMENT"
   ],
   "metadata": {
    "collapsed": false,
    "pycharm": {
     "name": "#%%\n"
    }
   }
  },
  {
   "cell_type": "code",
   "execution_count": 81,
   "outputs": [],
   "source": [
    "para1 = document.add_paragraph(name_list[0])\n",
    "para1.paragraph_format.alignment = WD_PARAGRAPH_ALIGNMENT.LEFT"
   ],
   "metadata": {
    "collapsed": false,
    "pycharm": {
     "name": "#%%\n"
    }
   }
  },
  {
   "cell_type": "code",
   "execution_count": 82,
   "outputs": [],
   "source": [
    "document.save('test.docx')"
   ],
   "metadata": {
    "collapsed": false,
    "pycharm": {
     "name": "#%%\n"
    }
   }
  }
 ],
 "metadata": {
  "kernelspec": {
   "display_name": "Python 3",
   "language": "python",
   "name": "python3"
  },
  "language_info": {
   "codemirror_mode": {
    "name": "ipython",
    "version": 2
   },
   "file_extension": ".py",
   "mimetype": "text/x-python",
   "name": "python",
   "nbconvert_exporter": "python",
   "pygments_lexer": "ipython2",
   "version": "2.7.6"
  }
 },
 "nbformat": 4,
 "nbformat_minor": 0
}